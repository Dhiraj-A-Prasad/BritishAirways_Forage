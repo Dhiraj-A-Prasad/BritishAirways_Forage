{ 
 "cells": [
  {
   "cell_type": "markdown",
   "id": "177623ab",
   "metadata": {},
   "source": [
    "# WebScraping\n"
   ]
  },
  {
   "cell_type": "code",
   "execution_count": 4,
   "id": "eae8a2cd",
   "metadata": {},
   "outputs": [],
   "source": [
    "import pandas as pd\n",
    "import numpy as np\n",
    "import os\n",
    "import requests\n",
    "from bs4 import BeautifulSoup\n"
   ]
  },
  {
   "cell_type": "code",
   "execution_count": 5,
   "id": "9c9bf12d",
   "metadata": {},
   "outputs": [],
   "source": [
    "reviews = []\n",
    "stars = []\n",
    "date = []\n",
    "country = []\n",
    "\n"
   ]
  },
  {
   "cell_type": "code",
   "execution_count": 6,
   "id": "4446084e",
   "metadata": {},
   "outputs": [
    {
     "name": "stdout",
     "output_type": "stream",
     "text": [
      "Error on page 31\n",
      "Error on page 32\n",
      "Error on page 33\n",
      "Error on page 35\n",
      "Error on page 35\n"
     ]
    }
   ],
   "source": [
    "for i in range(1, 365):\n",
    "    page = requests.get(f\"https://www.airlinequality.com/airline-reviews/british-airways/page/{i}/?sortby=post_date%3ADesc&pagesize=100\")\n",
    "    \n",
    "    soup = BeautifulSoup(page.content, \"html.parser\")\n",
    "    \n",
    "    for item in soup.find_all(\"div\", class_=\"text_content\"):\n",
    "        reviews.append(item.text)\n",
    "    \n",
    "    for item in soup.find_all(\"div\", class_ = \"rating-10\"):\n",
    "        try:\n",
    "            stars.append(item.span.text)\n",
    "        except:\n",
    "            print(f\"Error on page {i}\")\n",
    "            stars.append(\"None\")\n",
    "            \n",
    "    #date\n",
    "    for item in soup.find_all(\"time\"):\n",
    "        date.append(item.text)\n",
    "        \n",
    "    #country\n",
    "    for item in soup.find_all(\"h3\"):\n",
    "        country.append(item.span.next_sibling.text.strip(\" ()\"))"
   ]
  },
  {
   "cell_type": "code",
   "execution_count": 7,
   "id": "8d645a76",
   "metadata": {},
   "outputs": [
    {
     "data": {
      "text/plain": [
       "3644"
      ]
     },
     "execution_count": 7,
     "metadata": {},
     "output_type": "execute_result"
    }
   ],
   "source": [
    "len(reviews)"
   ]
  },
  {
   "cell_type": "code",
   "execution_count": 8,
   "id": "56040464",
   "metadata": {},
   "outputs": [
    {
     "data": {
      "text/plain": [
       "3644"
      ]
     },
     "execution_count": 8,
     "metadata": {},
     "output_type": "execute_result"
    }
   ],
   "source": [
    "len(country)"
   ]
  },
  {
   "cell_type": "code",
   "execution_count": 9,
   "id": "51e4727b",
   "metadata": {},
   "outputs": [
    {
     "data": {
      "text/plain": [
       "4008"
      ]
     },
     "execution_count": 9,
     "metadata": {},
     "output_type": "execute_result"
    }
   ],
   "source": [
    "len(stars)"
   ]
  },
  {
   "cell_type": "code",
   "execution_count": 10,
   "id": "c697f4a8",
   "metadata": {},
   "outputs": [
    {
     "data": {
      "text/plain": [
       "3644"
      ]
     },
     "execution_count": 10,
     "metadata": {},
     "output_type": "execute_result"
    }
   ],
   "source": [
    "len(date)"
   ]
  },
  {
   "cell_type": "markdown",
   "id": "62cdc204",
   "metadata": {},
   "source": [
    "#### Limiting the row data to avoid error since length of stars was not equal to length of other columns"
   ]
  },
  {
   "cell_type": "code",
   "execution_count": 11,
   "id": "130cfd1b",
   "metadata": {},
   "outputs": [],
   "source": [
    "stars = stars[:3644]"
   ]
  },
  {
   "cell_type": "markdown",
   "id": "292d5215",
   "metadata": {},
   "source": [
    "### DataFraming"
   ]
  },
  {
   "cell_type": "code",
   "execution_count": 12,
   "id": "6e8abc20",
   "metadata": {},
   "outputs": [],
   "source": [
    "df = pd.DataFrame({'country':country,'stars':stars,'date':date,'reviews':reviews})"
   ]
  },
  {
   "cell_type": "code",
   "execution_count": 13,
   "id": "3b3b21ca",
   "metadata": {},
   "outputs": [
    {
     "data": {
      "text/plain": [
       "<bound method NDFrame.head of              country                          stars                date  \\\n",
       "0            Germany  \\n\\t\\t\\t\\t\\t\\t\\t\\t\\t\\t\\t\\t\\t5  6th September 2023   \n",
       "1     United Kingdom                              1  4th September 2023   \n",
       "2            Iceland                              1  4th September 2023   \n",
       "3            Iceland                              8  4th September 2023   \n",
       "4     United Kingdom                              8  4th September 2023   \n",
       "...              ...                            ...                 ...   \n",
       "3639  United Kingdom                              8    29th August 2012   \n",
       "3640  United Kingdom                              2    28th August 2012   \n",
       "3641  United Kingdom                              7   12th October 2011   \n",
       "3642   United States                              1   11th October 2011   \n",
       "3643  United Kingdom                             10    9th October 2011   \n",
       "\n",
       "                                                reviews  \n",
       "0     ✅ Trip Verified |  4/4 flights we booked this ...  \n",
       "1     ✅ Trip Verified |  British Airways has a total...  \n",
       "2     ✅ Trip Verified | London Heathrow to Keflavik,...  \n",
       "3     ✅ Trip Verified | Mumbai to London Heathrow in...  \n",
       "4     ✅ Trip Verified |  Care and support shocking. ...  \n",
       "...                                                 ...  \n",
       "3639  Flight from Heathrow to Toronto. Booked emerge...  \n",
       "3640  LHR to HAM. Purser addresses all club passenge...  \n",
       "3641  My son who had worked for British Airways urge...  \n",
       "3642  London City-New York JFK via Shannon on A318 b...  \n",
       "3643  SIN-LHR BA12 B747-436 First Class. Old aircraf...  \n",
       "\n",
       "[3644 rows x 4 columns]>"
      ]
     },
     "execution_count": 13,
     "metadata": {},
     "output_type": "execute_result"
    }
   ],
   "source": [
    "df.head\n"
   ]
  },
  {
   "cell_type": "markdown",
   "id": "76e94e6f",
   "metadata": {},
   "source": [
    "### Getting Current Working Directory and saving the entire df as csv"
   ]
  },
  {
   "cell_type": "code",
   "execution_count": 21,
   "id": "5e9e1403",
   "metadata": {},
   "outputs": [],
   "source": [
    "cwd = os.getcwd()\n",
    "df.to_csv(cwd+ \"/BritishAirways.csv\")"
   ]
  },
  {
   "cell_type": "markdown",
   "id": "260846eb",
   "metadata": {},
   "source": [
    "# DataCleaning"
   ]
  },
  {
   "cell_type": "code",
   "execution_count": 2,
   "id": "4838cd58",
   "metadata": {},
   "outputs": [],
   "source": [
    "import pandas as pd\n",
    "import numpy as np\n",
    "import matplotlib.pyplot as plt\n",
    "import seaborn as sns\n",
    "import os\n",
    "import nltk\n",
    "import re\n",
    "from datetime import datetime\n"
   ]
  },
  {
   "cell_type": "code",
   "execution_count": 3,
   "id": "ab6ba388",
   "metadata": {},
   "outputs": [],
   "source": [
    "cwd = os.getcwd()\n",
    "df = pd.read_csv(r'E:\\CODE\\PYTHON\\Jupyter\\Forage BA\\csv\\BritishAirways.csv',index_col=0)"
   ]
  },
  {
   "cell_type": "code",
   "execution_count": 4,
   "id": "e59abfcf",
   "metadata": {},
   "outputs": [
    {
     "data": {
      "text/html": [
       "<div>\n",
       "<style scoped>\n",
       "    .dataframe tbody tr th:only-of-type {\n",
       "        vertical-align: middle;\n",
       "    }\n",
       "\n",
       "    .dataframe tbody tr th {\n",
       "        vertical-align: top;\n",
       "    }\n",
       "\n",
       "    .dataframe thead th {\n",
       "        text-align: right;\n",
       "    }\n",
       "</style>\n",
       "<table border=\"1\" class=\"dataframe\">\n",
       "  <thead>\n",
       "    <tr style=\"text-align: right;\">\n",
       "      <th></th>\n",
       "      <th>country</th>\n",
       "      <th>stars</th>\n",
       "      <th>date</th>\n",
       "      <th>reviews</th>\n",
       "    </tr>\n",
       "  </thead>\n",
       "  <tbody>\n",
       "    <tr>\n",
       "      <th>0</th>\n",
       "      <td>Germany</td>\n",
       "      <td>5.0</td>\n",
       "      <td>6th September 2023</td>\n",
       "      <td>✅ Trip Verified |  4/4 flights we booked this ...</td>\n",
       "    </tr>\n",
       "    <tr>\n",
       "      <th>1</th>\n",
       "      <td>United Kingdom</td>\n",
       "      <td>1.0</td>\n",
       "      <td>4th September 2023</td>\n",
       "      <td>✅ Trip Verified |  British Airways has a total...</td>\n",
       "    </tr>\n",
       "    <tr>\n",
       "      <th>2</th>\n",
       "      <td>Iceland</td>\n",
       "      <td>1.0</td>\n",
       "      <td>4th September 2023</td>\n",
       "      <td>✅ Trip Verified | London Heathrow to Keflavik,...</td>\n",
       "    </tr>\n",
       "    <tr>\n",
       "      <th>3</th>\n",
       "      <td>Iceland</td>\n",
       "      <td>8.0</td>\n",
       "      <td>4th September 2023</td>\n",
       "      <td>✅ Trip Verified | Mumbai to London Heathrow in...</td>\n",
       "    </tr>\n",
       "    <tr>\n",
       "      <th>4</th>\n",
       "      <td>United Kingdom</td>\n",
       "      <td>8.0</td>\n",
       "      <td>4th September 2023</td>\n",
       "      <td>✅ Trip Verified |  Care and support shocking. ...</td>\n",
       "    </tr>\n",
       "  </tbody>\n",
       "</table>\n",
       "</div>"
      ],
      "text/plain": [
       "          country  stars                date  \\\n",
       "0         Germany    5.0  6th September 2023   \n",
       "1  United Kingdom    1.0  4th September 2023   \n",
       "2         Iceland    1.0  4th September 2023   \n",
       "3         Iceland    8.0  4th September 2023   \n",
       "4  United Kingdom    8.0  4th September 2023   \n",
       "\n",
       "                                             reviews  \n",
       "0  ✅ Trip Verified |  4/4 flights we booked this ...  \n",
       "1  ✅ Trip Verified |  British Airways has a total...  \n",
       "2  ✅ Trip Verified | London Heathrow to Keflavik,...  \n",
       "3  ✅ Trip Verified | Mumbai to London Heathrow in...  \n",
       "4  ✅ Trip Verified |  Care and support shocking. ...  "
      ]
     },
     "execution_count": 4,
     "metadata": {},
     "output_type": "execute_result"
    }
   ],
   "source": [
    "df.head()"
   ]
  },
  {
   "cell_type": "code",
   "execution_count": 5,
   "id": "57636c3c",
   "metadata": {},
   "outputs": [],
   "source": [
    "df['verified']=df.reviews.str.contains('Trip Verified')"
   ]
  },
  {
   "cell_type": "code",
   "execution_count": 6,
   "id": "49c10097",
   "metadata": {},
   "outputs": [
    {
     "data": {
      "text/plain": [
       "0        True\n",
       "1        True\n",
       "2        True\n",
       "3        True\n",
       "4        True\n",
       "        ...  \n",
       "3639    False\n",
       "3640    False\n",
       "3641    False\n",
       "3642    False\n",
       "3643    False\n",
       "Name: verified, Length: 3644, dtype: bool"
      ]
     },
     "execution_count": 6,
     "metadata": {},
     "output_type": "execute_result"
    }
   ],
   "source": [
    "df['verified']"
   ]
  },
  {
   "cell_type": "code",
   "execution_count": 7,
   "id": "75e95d49",
   "metadata": {},
   "outputs": [],
   "source": [
    "from nltk.stem import WordNetLemmatizer\n",
    "from nltk.corpus import stopwords\n",
    "lemma = WordNetLemmatizer()\n",
    "\n",
    "\n",
    "\n",
    "reviews_data = df.reviews.str.strip(\"✅ Trip Verified |\")\n",
    "\n",
    "corpus=[]\n",
    "\n",
    "for rev in reviews_data:\n",
    "    rev=re.sub('[^a-zA-Z]',' ',rev)\n",
    "    rev=rev.lower()\n",
    "    rev=rev.split()\n",
    "    rev=[lemma.lemmatize(word)for word in rev if word not in set(stopwords.words('english'))]\n",
    "    rev = \" \".join(rev)\n",
    "    corpus.append(rev)"
   ]
  },
  {
   "cell_type": "code",
   "execution_count": 8,
   "id": "ce7c033e",
   "metadata": {},
   "outputs": [],
   "source": [
    "df['corpus']=corpus\n"
   ]
  },
  {
   "cell_type": "code",
   "execution_count": 9,
   "id": "710a173d",
   "metadata": {},
   "outputs": [
    {
     "data": {
      "text/html": [
       "<div>\n",
       "<style scoped>\n",
       "    .dataframe tbody tr th:only-of-type {\n",
       "        vertical-align: middle;\n",
       "    }\n",
       "\n",
       "    .dataframe tbody tr th {\n",
       "        vertical-align: top;\n",
       "    }\n",
       "\n",
       "    .dataframe thead th {\n",
       "        text-align: right;\n",
       "    }\n",
       "</style>\n",
       "<table border=\"1\" class=\"dataframe\">\n",
       "  <thead>\n",
       "    <tr style=\"text-align: right;\">\n",
       "      <th></th>\n",
       "      <th>country</th>\n",
       "      <th>stars</th>\n",
       "      <th>date</th>\n",
       "      <th>reviews</th>\n",
       "      <th>verified</th>\n",
       "      <th>corpus</th>\n",
       "    </tr>\n",
       "  </thead>\n",
       "  <tbody>\n",
       "    <tr>\n",
       "      <th>0</th>\n",
       "      <td>Germany</td>\n",
       "      <td>5.0</td>\n",
       "      <td>6th September 2023</td>\n",
       "      <td>✅ Trip Verified |  4/4 flights we booked this ...</td>\n",
       "      <td>True</td>\n",
       "      <td>flight booked holiday delayed hour wifi availa...</td>\n",
       "    </tr>\n",
       "    <tr>\n",
       "      <th>1</th>\n",
       "      <td>United Kingdom</td>\n",
       "      <td>1.0</td>\n",
       "      <td>4th September 2023</td>\n",
       "      <td>✅ Trip Verified |  British Airways has a total...</td>\n",
       "      <td>True</td>\n",
       "      <td>british airway total lack respect customer boo...</td>\n",
       "    </tr>\n",
       "    <tr>\n",
       "      <th>2</th>\n",
       "      <td>Iceland</td>\n",
       "      <td>1.0</td>\n",
       "      <td>4th September 2023</td>\n",
       "      <td>✅ Trip Verified | London Heathrow to Keflavik,...</td>\n",
       "      <td>True</td>\n",
       "      <td>london heathrow keflavik iceland business clas...</td>\n",
       "    </tr>\n",
       "    <tr>\n",
       "      <th>3</th>\n",
       "      <td>Iceland</td>\n",
       "      <td>8.0</td>\n",
       "      <td>4th September 2023</td>\n",
       "      <td>✅ Trip Verified | Mumbai to London Heathrow in...</td>\n",
       "      <td>True</td>\n",
       "      <td>mumbai london heathrow business class ageing b...</td>\n",
       "    </tr>\n",
       "    <tr>\n",
       "      <th>4</th>\n",
       "      <td>United Kingdom</td>\n",
       "      <td>8.0</td>\n",
       "      <td>4th September 2023</td>\n",
       "      <td>✅ Trip Verified |  Care and support shocking. ...</td>\n",
       "      <td>True</td>\n",
       "      <td>care support shocking written previously loyal...</td>\n",
       "    </tr>\n",
       "  </tbody>\n",
       "</table>\n",
       "</div>"
      ],
      "text/plain": [
       "          country  stars                date  \\\n",
       "0         Germany    5.0  6th September 2023   \n",
       "1  United Kingdom    1.0  4th September 2023   \n",
       "2         Iceland    1.0  4th September 2023   \n",
       "3         Iceland    8.0  4th September 2023   \n",
       "4  United Kingdom    8.0  4th September 2023   \n",
       "\n",
       "                                             reviews  verified  \\\n",
       "0  ✅ Trip Verified |  4/4 flights we booked this ...      True   \n",
       "1  ✅ Trip Verified |  British Airways has a total...      True   \n",
       "2  ✅ Trip Verified | London Heathrow to Keflavik,...      True   \n",
       "3  ✅ Trip Verified | Mumbai to London Heathrow in...      True   \n",
       "4  ✅ Trip Verified |  Care and support shocking. ...      True   \n",
       "\n",
       "                                              corpus  \n",
       "0  flight booked holiday delayed hour wifi availa...  \n",
       "1  british airway total lack respect customer boo...  \n",
       "2  london heathrow keflavik iceland business clas...  \n",
       "3  mumbai london heathrow business class ageing b...  \n",
       "4  care support shocking written previously loyal...  "
      ]
     },
     "execution_count": 9,
     "metadata": {},
     "output_type": "execute_result"
    }
   ],
   "source": [
    "df.head()"
   ]
  },
  {
   "cell_type": "code",
   "execution_count": 10,
   "id": "ba9c3a93",
   "metadata": {},
   "outputs": [
    {
     "data": {
      "text/plain": [
       "country      object\n",
       "stars       float64\n",
       "date         object\n",
       "reviews      object\n",
       "verified       bool\n",
       "corpus       object\n",
       "dtype: object"
      ]
     },
     "execution_count": 10,
     "metadata": {},
     "output_type": "execute_result"
    }
   ],
   "source": [
    "df.dtypes"
   ]
  },
  {
   "cell_type": "code",
   "execution_count": 11,
   "id": "1f21390b",
   "metadata": {},
   "outputs": [
    {
     "data": {
      "text/plain": [
       "0    6th September 2023\n",
       "1    4th September 2023\n",
       "2    4th September 2023\n",
       "3    4th September 2023\n",
       "4    4th September 2023\n",
       "Name: date, dtype: object"
      ]
     },
     "execution_count": 11,
     "metadata": {},
     "output_type": "execute_result"
    }
   ],
   "source": [
    "df.date.head()"
   ]
  },
  {
   "cell_type": "code",
   "execution_count": 12,
   "id": "290225e8",
   "metadata": {},
   "outputs": [
    {
     "data": {
      "text/plain": [
       "stars\n",
       "1.0     834\n",
       "2.0     418\n",
       "3.0     398\n",
       "8.0     358\n",
       "10.0    322\n",
       "7.0     308\n",
       "9.0     307\n",
       "5.0     265\n",
       "4.0     243\n",
       "6.0     186\n",
       "Name: count, dtype: int64"
      ]
     },
     "execution_count": 12,
     "metadata": {},
     "output_type": "execute_result"
    }
   ],
   "source": [
    "df.stars.value_counts()"
   ]
  },
  {
   "cell_type": "code",
   "execution_count": 13,
   "id": "c724dc60",
   "metadata": {},
   "outputs": [
    {
     "name": "stdout",
     "output_type": "stream",
     "text": [
      "country\n",
      "United Kingdom           2293\n",
      "United States             402\n",
      "Australia                 158\n",
      "Canada                    114\n",
      "Germany                    62\n",
      "Ireland                    39\n",
      "South Africa               39\n",
      "Switzerland                37\n",
      "Netherlands                34\n",
      "Spain                      29\n",
      "France                     27\n",
      "Singapore                  27\n",
      "Belgium                    25\n",
      "United Arab Emirates       23\n",
      "Thailand                   23\n",
      "Italy                      20\n",
      "Sweden                     20\n",
      "India                      19\n",
      "China                      18\n",
      "Hong Kong                  16\n",
      "Greece                     15\n",
      "Malaysia                   14\n",
      "Portugal                   13\n",
      "Denmark                    12\n",
      "Austria                    11\n",
      "New Zealand                11\n",
      "Saudi Arabia                9\n",
      "Mexico                      8\n",
      "Poland                      8\n",
      "Ghana                       7\n",
      "Qatar                       7\n",
      "Cyprus                      6\n",
      "Argentina                   6\n",
      "Norway                      5\n",
      "Czech Republic              5\n",
      "Iceland                     5\n",
      "South Korea                 5\n",
      "Kuwait                      5\n",
      "Romania                     5\n",
      "Japan                       5\n",
      "Brazil                      4\n",
      "Israel                      4\n",
      "Slovakia                    3\n",
      "Taiwan                      3\n",
      "Turkey                      3\n",
      "Bulgaria                    3\n",
      "Russian Federation          3\n",
      "Finland                     2\n",
      "Luxembourg                  2\n",
      "Philippines                 2\n",
      "Nigeria                     2\n",
      "Botswana                    2\n",
      "Hungary                     2\n",
      "Bermuda                     2\n",
      "Egypt                       2\n",
      "Ukraine                     1\n",
      "Barbados                    1\n",
      "Trinidad & Tobago           1\n",
      "Dominican Republic          1\n",
      "Bahrain                     1\n",
      "Indonesia                   1\n",
      "Panama                      1\n",
      "Laos                        1\n",
      "Costa Rica                  1\n",
      "Cayman Islands              1\n",
      "Jordan                      1\n",
      "Vietnam                     1\n",
      "Saint Kitts and Nevis       1\n",
      "Chile                       1\n",
      "Senegal                     1\n",
      "Oman                        1\n",
      "Name: count, dtype: int64\n"
     ]
    }
   ],
   "source": [
    "result=df.country.value_counts()\n",
    "with pd.option_context('display.max_rows', None):\n",
    "    print(result)"
   ]
  },
  {
   "cell_type": "code",
   "execution_count": 14,
   "id": "9c52b7ee",
   "metadata": {},
   "outputs": [
    {
     "data": {
      "text/plain": [
       "country  stars  date   reviews  verified  corpus\n",
       "False    False  False  False    False     False     3637\n",
       "         True   False  False    False     False        5\n",
       "True     False  False  False    False     False        2\n",
       "Name: count, dtype: int64"
      ]
     },
     "execution_count": 14,
     "metadata": {},
     "output_type": "execute_result"
    }
   ],
   "source": [
    "df.isnull().value_counts()\n"
   ]
  },
  {
   "cell_type": "code",
   "execution_count": 15,
   "id": "3e7d9abd",
   "metadata": {},
   "outputs": [
    {
     "data": {
      "text/plain": [
       "country\n",
       "False    3642\n",
       "True        2\n",
       "Name: count, dtype: int64"
      ]
     },
     "execution_count": 15,
     "metadata": {},
     "output_type": "execute_result"
    }
   ],
   "source": [
    "df.country.isnull().value_counts()\n"
   ]
  },
  {
   "cell_type": "code",
   "execution_count": 16,
   "id": "5876fd74",
   "metadata": {},
   "outputs": [],
   "source": [
    "df.drop(df[df.country.isnull() == True].index, axis=0, inplace=True)\n"
   ]
  },
  {
   "cell_type": "code",
   "execution_count": 17,
   "id": "52e45c48",
   "metadata": {},
   "outputs": [
    {
     "data": {
      "text/plain": [
       "(3642, 6)"
      ]
     },
     "execution_count": 17,
     "metadata": {},
     "output_type": "execute_result"
    }
   ],
   "source": [
    "df.shape\n"
   ]
  },
  {
   "cell_type": "code",
   "execution_count": 18,
   "id": "1550bc07",
   "metadata": {},
   "outputs": [
    {
     "data": {
      "text/html": [
       "<div>\n",
       "<style scoped>\n",
       "    .dataframe tbody tr th:only-of-type {\n",
       "        vertical-align: middle;\n",
       "    }\n",
       "\n",
       "    .dataframe tbody tr th {\n",
       "        vertical-align: top;\n",
       "    }\n",
       "\n",
       "    .dataframe thead th {\n",
       "        text-align: right;\n",
       "    }\n",
       "</style>\n",
       "<table border=\"1\" class=\"dataframe\">\n",
       "  <thead>\n",
       "    <tr style=\"text-align: right;\">\n",
       "      <th></th>\n",
       "      <th>country</th>\n",
       "      <th>stars</th>\n",
       "      <th>date</th>\n",
       "      <th>reviews</th>\n",
       "      <th>verified</th>\n",
       "      <th>corpus</th>\n",
       "    </tr>\n",
       "  </thead>\n",
       "  <tbody>\n",
       "    <tr>\n",
       "      <th>0</th>\n",
       "      <td>Germany</td>\n",
       "      <td>5.0</td>\n",
       "      <td>6th September 2023</td>\n",
       "      <td>✅ Trip Verified |  4/4 flights we booked this ...</td>\n",
       "      <td>True</td>\n",
       "      <td>flight booked holiday delayed hour wifi availa...</td>\n",
       "    </tr>\n",
       "    <tr>\n",
       "      <th>1</th>\n",
       "      <td>United Kingdom</td>\n",
       "      <td>1.0</td>\n",
       "      <td>4th September 2023</td>\n",
       "      <td>✅ Trip Verified |  British Airways has a total...</td>\n",
       "      <td>True</td>\n",
       "      <td>british airway total lack respect customer boo...</td>\n",
       "    </tr>\n",
       "    <tr>\n",
       "      <th>2</th>\n",
       "      <td>Iceland</td>\n",
       "      <td>1.0</td>\n",
       "      <td>4th September 2023</td>\n",
       "      <td>✅ Trip Verified | London Heathrow to Keflavik,...</td>\n",
       "      <td>True</td>\n",
       "      <td>london heathrow keflavik iceland business clas...</td>\n",
       "    </tr>\n",
       "    <tr>\n",
       "      <th>3</th>\n",
       "      <td>Iceland</td>\n",
       "      <td>8.0</td>\n",
       "      <td>4th September 2023</td>\n",
       "      <td>✅ Trip Verified | Mumbai to London Heathrow in...</td>\n",
       "      <td>True</td>\n",
       "      <td>mumbai london heathrow business class ageing b...</td>\n",
       "    </tr>\n",
       "    <tr>\n",
       "      <th>4</th>\n",
       "      <td>United Kingdom</td>\n",
       "      <td>8.0</td>\n",
       "      <td>4th September 2023</td>\n",
       "      <td>✅ Trip Verified |  Care and support shocking. ...</td>\n",
       "      <td>True</td>\n",
       "      <td>care support shocking written previously loyal...</td>\n",
       "    </tr>\n",
       "    <tr>\n",
       "      <th>...</th>\n",
       "      <td>...</td>\n",
       "      <td>...</td>\n",
       "      <td>...</td>\n",
       "      <td>...</td>\n",
       "      <td>...</td>\n",
       "      <td>...</td>\n",
       "    </tr>\n",
       "    <tr>\n",
       "      <th>3637</th>\n",
       "      <td>United Kingdom</td>\n",
       "      <td>8.0</td>\n",
       "      <td>29th August 2012</td>\n",
       "      <td>Flight from Heathrow to Toronto. Booked emerge...</td>\n",
       "      <td>False</td>\n",
       "      <td>flight heathrow toronto booked emergency exit ...</td>\n",
       "    </tr>\n",
       "    <tr>\n",
       "      <th>3638</th>\n",
       "      <td>United Kingdom</td>\n",
       "      <td>2.0</td>\n",
       "      <td>28th August 2012</td>\n",
       "      <td>LHR to HAM. Purser addresses all club passenge...</td>\n",
       "      <td>False</td>\n",
       "      <td>lhr ham purser address club passenger name boa...</td>\n",
       "    </tr>\n",
       "    <tr>\n",
       "      <th>3639</th>\n",
       "      <td>United Kingdom</td>\n",
       "      <td>7.0</td>\n",
       "      <td>12th October 2011</td>\n",
       "      <td>My son who had worked for British Airways urge...</td>\n",
       "      <td>False</td>\n",
       "      <td>son worked british airway urged fly british ai...</td>\n",
       "    </tr>\n",
       "    <tr>\n",
       "      <th>3640</th>\n",
       "      <td>United States</td>\n",
       "      <td>1.0</td>\n",
       "      <td>11th October 2011</td>\n",
       "      <td>London City-New York JFK via Shannon on A318 b...</td>\n",
       "      <td>False</td>\n",
       "      <td>london city new york jfk via shannon really ni...</td>\n",
       "    </tr>\n",
       "    <tr>\n",
       "      <th>3641</th>\n",
       "      <td>United Kingdom</td>\n",
       "      <td>10.0</td>\n",
       "      <td>9th October 2011</td>\n",
       "      <td>SIN-LHR BA12 B747-436 First Class. Old aircraf...</td>\n",
       "      <td>False</td>\n",
       "      <td>sin lhr ba b first class old aircraft seat pri...</td>\n",
       "    </tr>\n",
       "  </tbody>\n",
       "</table>\n",
       "<p>3642 rows × 6 columns</p>\n",
       "</div>"
      ],
      "text/plain": [
       "             country  stars                date  \\\n",
       "0            Germany    5.0  6th September 2023   \n",
       "1     United Kingdom    1.0  4th September 2023   \n",
       "2            Iceland    1.0  4th September 2023   \n",
       "3            Iceland    8.0  4th September 2023   \n",
       "4     United Kingdom    8.0  4th September 2023   \n",
       "...              ...    ...                 ...   \n",
       "3637  United Kingdom    8.0    29th August 2012   \n",
       "3638  United Kingdom    2.0    28th August 2012   \n",
       "3639  United Kingdom    7.0   12th October 2011   \n",
       "3640   United States    1.0   11th October 2011   \n",
       "3641  United Kingdom   10.0    9th October 2011   \n",
       "\n",
       "                                                reviews  verified  \\\n",
       "0     ✅ Trip Verified |  4/4 flights we booked this ...      True   \n",
       "1     ✅ Trip Verified |  British Airways has a total...      True   \n",
       "2     ✅ Trip Verified | London Heathrow to Keflavik,...      True   \n",
       "3     ✅ Trip Verified | Mumbai to London Heathrow in...      True   \n",
       "4     ✅ Trip Verified |  Care and support shocking. ...      True   \n",
       "...                                                 ...       ...   \n",
       "3637  Flight from Heathrow to Toronto. Booked emerge...     False   \n",
       "3638  LHR to HAM. Purser addresses all club passenge...     False   \n",
       "3639  My son who had worked for British Airways urge...     False   \n",
       "3640  London City-New York JFK via Shannon on A318 b...     False   \n",
       "3641  SIN-LHR BA12 B747-436 First Class. Old aircraf...     False   \n",
       "\n",
       "                                                 corpus  \n",
       "0     flight booked holiday delayed hour wifi availa...  \n",
       "1     british airway total lack respect customer boo...  \n",
       "2     london heathrow keflavik iceland business clas...  \n",
       "3     mumbai london heathrow business class ageing b...  \n",
       "4     care support shocking written previously loyal...  \n",
       "...                                                 ...  \n",
       "3637  flight heathrow toronto booked emergency exit ...  \n",
       "3638  lhr ham purser address club passenger name boa...  \n",
       "3639  son worked british airway urged fly british ai...  \n",
       "3640  london city new york jfk via shannon really ni...  \n",
       "3641  sin lhr ba b first class old aircraft seat pri...  \n",
       "\n",
       "[3642 rows x 6 columns]"
      ]
     },
     "execution_count": 18,
     "metadata": {},
     "output_type": "execute_result"
    }
   ],
   "source": [
    "df.reset_index(drop=True)\n"
   ]
  },
  {
   "cell_type": "code",
   "execution_count": 19,
   "id": "d6e503d2",
   "metadata": {},
   "outputs": [],
   "source": [
    "df.to_csv(cwd + \"/C_BA_reviews1.csv\")\n"
   ]
  },
  {
   "cell_type": "code",
   "execution_count": 20,
   "id": "fe838152",
   "metadata": {},
   "outputs": [
    {
     "name": "stdout",
     "output_type": "stream",
     "text": [
      "Total occurrences of \"safety\": 54\n"
     ]
    }
   ],
   "source": [
    "# Assuming you have a DataFrame named 'df' and want to count 'food' occurrences in the 'reviews' column\n",
    "word_to_count = 'safety'\n",
    "count_food = df['reviews'].str.count(fr'\\b{word_to_count}\\b').sum()\n",
    "\n",
    "# Print the total count\n",
    "print(f'Total occurrences of \"{word_to_count}\": {count_food}')\n"
   ]
  },
  {
   "cell_type": "code",
   "execution_count": 21,
   "id": "afbbc12d",
   "metadata": {},
   "outputs": [
    {
     "name": "stdout",
     "output_type": "stream",
     "text": [
      "Total occurrences of 10.0: 322\n"
     ]
    }
   ],
   "source": [
    "# Assuming you have a DataFrame named 'df' and want to count occurrences of '1.0' in the 'stars' column\n",
    "word_to_count = 10.0  # Note that we use a numerical value here\n",
    "\n",
    "count_stars = (df['stars'] == word_to_count).sum()\n",
    "\n",
    "# Print the total count\n",
    "print(f'Total occurrences of {word_to_count}: {count_stars}')"
   ]
  },
  {
   "cell_type": "code",
   "execution_count": 22,
   "id": "b326d8cb",
   "metadata": {},
   "outputs": [
    {
     "data": {
      "text/plain": [
       "(array([ 0,  1,  2,  3,  4,  5,  6,  7,  8,  9, 10, 11, 12, 13, 14, 15, 16,\n",
       "        17, 18, 19]),\n",
       " [Text(0, 0, 'seat'),\n",
       "  Text(1, 0, 'service'),\n",
       "  Text(2, 0, 'time'),\n",
       "  Text(3, 0, 'food'),\n",
       "  Text(4, 0, 'crew'),\n",
       "  Text(5, 0, 'good'),\n",
       "  Text(6, 0, 'cabin'),\n",
       "  Text(7, 0, 'class'),\n",
       "  Text(8, 0, 'hour'),\n",
       "  Text(9, 0, 'staff'),\n",
       "  Text(10, 0, 'business'),\n",
       "  Text(11, 0, 'economy'),\n",
       "  Text(12, 0, 'check'),\n",
       "  Text(13, 0, 'drink'),\n",
       "  Text(14, 0, 'meal'),\n",
       "  Text(15, 0, 'return'),\n",
       "  Text(16, 0, 'lounge'),\n",
       "  Text(17, 0, 'club'),\n",
       "  Text(18, 0, 'boarding'),\n",
       "  Text(19, 0, 'experience')])"
      ]
     },
     "execution_count": 22,
     "metadata": {},
     "output_type": "execute_result"
    },
    {
     "data": {
      "image/png": "[encoded data removed]",
      "text/plain": [
       "<Figure size 1500x800 with 1 Axes>"
      ]
     },
     "metadata": {},
     "output_type": "display_data"
    }
   ],
   "source": [
    "from nltk import ngrams\n",
    "from nltk.probability import FreqDist\n",
    "\n",
    "from sklearn.feature_extraction import text\n",
    "from sklearn.feature_extraction.text import TfidfVectorizer\n",
    "\n",
    "#split the text of all reviews into a list of words\n",
    "reviews = \" \".join(df.corpus)\n",
    "words = reviews.split(\" \")\n",
    "\n",
    "#remove certain words that will not be used to determine the positive or negative sentiment\n",
    "stopwords = text.ENGLISH_STOP_WORDS.union(['flight', 'ba', \"passenger\",\"u\", \"london\",\"airway\",\"british\",\"airline\",\\\n",
    "                                           \"heathrow\",\"plane\",\"lhr\",\"review\"])\n",
    "\n",
    "\n",
    "new_words = [word for word in words if word not in stopwords]\n",
    "\n",
    "nlp_words=FreqDist(new_words).most_common(20)\n",
    "\n",
    "#create a dataframe of these word and its frequencies\n",
    "all_fdist = pd.Series(dict(nlp_words))\n",
    "\n",
    "\n",
    "## Setting figure, ax into variables\n",
    "fig, ax = plt.subplots(figsize=(15,8))\n",
    "\n",
    "## Seaborn plotting using Pandas attributes + xtick rotation for ease of viewing\n",
    "all_plot = sns.barplot(x=all_fdist.index, y=all_fdist.values, ax=ax)\n",
    "all_plot.bar_label(all_plot.containers[0])\n",
    "plt.xticks(rotation=30)"
   ]
  },
  {
   "cell_type": "code",
   "execution_count": 34,
   "id": "13d1d0e8",
   "metadata": {},
   "outputs": [
    {
     "data": {
      "text/plain": [
       "<Figure size 8000x5000 with 0 Axes>"
      ]
     },
     "metadata": {},
     "output_type": "display_data"
    },
    {
     "data": {
      "image/png": "[encoded data removed]",
      "text/plain": [
       "<Figure size 1200x800 with 1 Axes>"
      ]
     },
     "metadata": {},
     "output_type": "display_data"
    }
   ],
   "source": [
    "import matplotlib.pyplot as plt\n",
    "import pandas as pd\n",
    "import seaborn as sns\n",
    "from nltk import FreqDist\n",
    "from nltk.corpus import stopwords\n",
    "\n",
    "# Assuming 'df.corpus' contains your text data\n",
    "\n",
    "# Join and split the text into words\n",
    "reviews = \" \".join(df.corpus)\n",
    "words = reviews.split()\n",
    "\n",
    "# Remove stopwords\n",
    "stop_words = set(stopwords.words(\"english\"))\n",
    "custom_stopwords = set(['flight', 'ba', \"passenger\", \"u\", \"london\", \"airway\", \"british\", \"airline\", \"heathrow\",\"get\", \"even\", \"first\",\"back\", \"one\", \"check\", \"first\" \"plane\", \"lhr\", \"review\", \"would\"])\n",
    "filtered_words = [word for word in words if word.lower() not in stop_words and word.lower() not in custom_stopwords]\n",
    "\n",
    "# Calculate word frequencies\n",
    "word_freq = FreqDist(filtered_words)\n",
    "top_words = word_freq.most_common(20)\n",
    "\n",
    "#setting up imag quality\n",
    "# Set a larger figure size and higher DPI for HD\n",
    "plt.figure(figsize=(16, 10), dpi=500)\n",
    "\n",
    "# Create a DataFrame\n",
    "top_words_df = pd.DataFrame(top_words, columns=[\"Word\", \"Frequency\"])\n",
    "\n",
    "# Set figure size\n",
    "plt.figure(figsize=(12, 8))\n",
    "\n",
    "# Create a bar plot\n",
    "plot = sns.barplot(x=\"Frequency\", y=\"Word\", data=top_words_df, palette=\"viridis\")\n",
    "\n",
    "# Add labels and title\n",
    "plot.set(xlabel=\"Frequency\", ylabel=\"Word\", title=\"Top 20 Most Frequent Words in Airline Reviews\")\n",
    "\n",
    "# Invert the y-axis for better readability\n",
    "plot.invert_yaxis()\n",
    "\n",
    "# Add annotations (word frequencies)\n",
    "for index, row in top_words_df.iterrows():\n",
    "    plot.text(row[\"Frequency\"], index, f' {row[\"Frequency\"]}', color='black', va=\"center\")\n",
    "\n",
    "# Show the plot\n",
    "plt.show()\n"
   ]
  }
 ],
 "metadata": {
  "kernelspec": {
   "display_name": "Python 3 (ipykernel)",
   "language": "python",
   "name": "python3"
  },
  "language_info": {
   "codemirror_mode": {
    "name": "ipython",
    "version": 3
   },
   "file_extension": ".py",
   "mimetype": "text/x-python",
   "name": "python",
   "nbconvert_exporter": "python",
   "pygments_lexer": "ipython3",
   "version": "3.10.9"
  }
 },
 "nbformat": 4,
 "nbformat_minor": 5
}
